{
 "cells": [
  {
   "cell_type": "markdown",
   "metadata": {},
   "source": [
    "## Model Data using Cassandra\n",
    "\n",
    "\n",
    "### The aim of the project is to solve the three queries given below."
   ]
  },
  {
   "cell_type": "markdown",
   "metadata": {},
   "source": [
    "### Introduction\n",
    "\n",
    "There is a music streaming app called SoundCloud, that has been using their music streaming app and collecting data on songs and user activity and their aim is to analyze this data especially understanding what songs users are listening to. Currently, they are not making use of a NoSQL db and they have the data stored as a CSV file, thus its difficult for them to query the data. So our task is to create a NoSQL database for helping them with the analysis."
   ]
  },
  {
   "cell_type": "markdown",
   "metadata": {},
   "source": [
    "#### Import Packages "
   ]
  },
  {
   "cell_type": "code",
   "execution_count": 59,
   "metadata": {},
   "outputs": [],
   "source": [
    "import pandas as pd\n",
    "from cassandra.cluster import Cluster\n",
    "from cassandra.auth import PlainTextAuthProvider"
   ]
  },
  {
   "cell_type": "markdown",
   "metadata": {},
   "source": [
    "\n",
    "##  The image below is a screenshot of what the data appears like in the event_data.csv\n",
    "\n",
    "<img src=\"event_data_image.jpg\">"
   ]
  },
  {
   "cell_type": "code",
   "execution_count": 89,
   "metadata": {},
   "outputs": [
    {
     "data": {
      "text/html": [
       "<div>\n",
       "<style scoped>\n",
       "    .dataframe tbody tr th:only-of-type {\n",
       "        vertical-align: middle;\n",
       "    }\n",
       "\n",
       "    .dataframe tbody tr th {\n",
       "        vertical-align: top;\n",
       "    }\n",
       "\n",
       "    .dataframe thead th {\n",
       "        text-align: right;\n",
       "    }\n",
       "</style>\n",
       "<table border=\"1\" class=\"dataframe\">\n",
       "  <thead>\n",
       "    <tr style=\"text-align: right;\">\n",
       "      <th></th>\n",
       "      <th>artist_name</th>\n",
       "      <th>fname</th>\n",
       "      <th>gender</th>\n",
       "      <th>item_in_session_number</th>\n",
       "      <th>lname</th>\n",
       "      <th>length</th>\n",
       "      <th>level</th>\n",
       "      <th>location</th>\n",
       "      <th>session_number</th>\n",
       "      <th>song_title</th>\n",
       "      <th>user_id</th>\n",
       "    </tr>\n",
       "  </thead>\n",
       "  <tbody>\n",
       "    <tr>\n",
       "      <th>0</th>\n",
       "      <td>Pavement</td>\n",
       "      <td>Sylvie</td>\n",
       "      <td>F</td>\n",
       "      <td>0</td>\n",
       "      <td>Cruz</td>\n",
       "      <td>99.16036</td>\n",
       "      <td>free</td>\n",
       "      <td>Washington-Arlington-Alexandria, DC-VA-MD-WV</td>\n",
       "      <td>345</td>\n",
       "      <td>Mercy:The Laundromat</td>\n",
       "      <td>10</td>\n",
       "    </tr>\n",
       "    <tr>\n",
       "      <th>1</th>\n",
       "      <td>Barry Tuckwell/Academy of St Martin-in-the-Fie...</td>\n",
       "      <td>Celeste</td>\n",
       "      <td>F</td>\n",
       "      <td>1</td>\n",
       "      <td>Williams</td>\n",
       "      <td>277.15873</td>\n",
       "      <td>free</td>\n",
       "      <td>Klamath Falls, OR</td>\n",
       "      <td>438</td>\n",
       "      <td>Horn Concerto No. 4 in E flat K495: II. Romanc...</td>\n",
       "      <td>53</td>\n",
       "    </tr>\n",
       "    <tr>\n",
       "      <th>2</th>\n",
       "      <td>Gary Allan</td>\n",
       "      <td>Celeste</td>\n",
       "      <td>F</td>\n",
       "      <td>2</td>\n",
       "      <td>Williams</td>\n",
       "      <td>211.22567</td>\n",
       "      <td>free</td>\n",
       "      <td>Klamath Falls, OR</td>\n",
       "      <td>438</td>\n",
       "      <td>Nothing On But The Radio</td>\n",
       "      <td>53</td>\n",
       "    </tr>\n",
       "    <tr>\n",
       "      <th>3</th>\n",
       "      <td>Charttraxx Karaoke</td>\n",
       "      <td>Celeste</td>\n",
       "      <td>F</td>\n",
       "      <td>3</td>\n",
       "      <td>Williams</td>\n",
       "      <td>225.17506</td>\n",
       "      <td>free</td>\n",
       "      <td>Klamath Falls, OR</td>\n",
       "      <td>438</td>\n",
       "      <td>Fireflies</td>\n",
       "      <td>53</td>\n",
       "    </tr>\n",
       "    <tr>\n",
       "      <th>4</th>\n",
       "      <td>The Libertines</td>\n",
       "      <td>Jacqueline</td>\n",
       "      <td>F</td>\n",
       "      <td>1</td>\n",
       "      <td>Lynch</td>\n",
       "      <td>179.53914</td>\n",
       "      <td>paid</td>\n",
       "      <td>Atlanta-Sandy Springs-Roswell, GA</td>\n",
       "      <td>389</td>\n",
       "      <td>The Good Old Days</td>\n",
       "      <td>29</td>\n",
       "    </tr>\n",
       "  </tbody>\n",
       "</table>\n",
       "</div>"
      ],
      "text/plain": [
       "                                         artist_name       fname gender  \\\n",
       "0                                           Pavement      Sylvie      F   \n",
       "1  Barry Tuckwell/Academy of St Martin-in-the-Fie...     Celeste      F   \n",
       "2                                         Gary Allan     Celeste      F   \n",
       "3                                 Charttraxx Karaoke     Celeste      F   \n",
       "4                                     The Libertines  Jacqueline      F   \n",
       "\n",
       "   item_in_session_number     lname     length level  \\\n",
       "0                       0      Cruz   99.16036  free   \n",
       "1                       1  Williams  277.15873  free   \n",
       "2                       2  Williams  211.22567  free   \n",
       "3                       3  Williams  225.17506  free   \n",
       "4                       1     Lynch  179.53914  paid   \n",
       "\n",
       "                                       location  session_number  \\\n",
       "0  Washington-Arlington-Alexandria, DC-VA-MD-WV             345   \n",
       "1                             Klamath Falls, OR             438   \n",
       "2                             Klamath Falls, OR             438   \n",
       "3                             Klamath Falls, OR             438   \n",
       "4             Atlanta-Sandy Springs-Roswell, GA             389   \n",
       "\n",
       "                                          song_title  user_id  \n",
       "0                               Mercy:The Laundromat       10  \n",
       "1  Horn Concerto No. 4 in E flat K495: II. Romanc...       53  \n",
       "2                           Nothing On But The Radio       53  \n",
       "3                                          Fireflies       53  \n",
       "4                                  The Good Old Days       29  "
      ]
     },
     "execution_count": 89,
     "metadata": {},
     "output_type": "execute_result"
    }
   ],
   "source": [
    "# Reading the data\n",
    "df = pd.read_csv('event_data.csv')\n",
    "df.head()"
   ]
  },
  {
   "cell_type": "code",
   "execution_count": 71,
   "metadata": {},
   "outputs": [
    {
     "name": "stdout",
     "output_type": "stream",
     "text": [
      "<cassandra.cluster.Session object at 0x00000276C376B510>\n"
     ]
    }
   ],
   "source": [
    "# Connecting with the server\n",
    "session = Cluster(\n",
    "    cloud={\"secure_connect_bundle\": \"secure-connect-soundcloud-db.zip\"},\n",
    "    auth_provider=PlainTextAuthProvider(\"token\", \"AstraCS:qHJQpwYqKwQIljswscAWmWFo:3add6c200ac20cd82b176b773affdff494e79c08dbc28b58bf0570d138625164\"),\n",
    ").connect()\n",
    "print(session)"
   ]
  },
  {
   "cell_type": "code",
   "execution_count": 90,
   "metadata": {},
   "outputs": [
    {
     "name": "stdout",
     "output_type": "stream",
     "text": [
      "Row(keyspace_name='system_auth', durable_writes=True, graph_engine=None, replication=OrderedMapSerializedKey([('class', 'org.apache.cassandra.locator.NetworkTopologyStrategy'), ('us-east-2', '3')]))\n",
      "Row(keyspace_name='system_schema', durable_writes=True, graph_engine=None, replication=OrderedMapSerializedKey([('class', 'org.apache.cassandra.locator.LocalStrategy')]))\n",
      "Row(keyspace_name='data_endpoint_auth', durable_writes=True, graph_engine=None, replication=OrderedMapSerializedKey([('class', 'org.apache.cassandra.locator.NetworkTopologyStrategy'), ('us-east-2', '3')]))\n",
      "Row(keyspace_name='datastax_sla', durable_writes=True, graph_engine=None, replication=OrderedMapSerializedKey([('class', 'org.apache.cassandra.locator.NetworkTopologyStrategy'), ('us-east-2', '3')]))\n",
      "Row(keyspace_name='soundcloud', durable_writes=True, graph_engine=None, replication=OrderedMapSerializedKey([('class', 'org.apache.cassandra.locator.NetworkTopologyStrategy'), ('us-east-2', '3')]))\n",
      "Row(keyspace_name='system', durable_writes=True, graph_engine=None, replication=OrderedMapSerializedKey([('class', 'org.apache.cassandra.locator.LocalStrategy')]))\n",
      "Row(keyspace_name='default_keyspace', durable_writes=True, graph_engine=None, replication=OrderedMapSerializedKey([('class', 'org.apache.cassandra.locator.NetworkTopologyStrategy'), ('us-east-2', '3')]))\n",
      "Row(keyspace_name='system_traces', durable_writes=True, graph_engine=None, replication=OrderedMapSerializedKey([('class', 'org.apache.cassandra.locator.NetworkTopologyStrategy'), ('us-east-2', '3')]))\n"
     ]
    }
   ],
   "source": [
    "# Checking the server connection and the keyspace \n",
    "val = session.execute(\n",
    "    \"\"\"\n",
    "    SELECT * FROM system_schema.keyspaces;\n",
    "    \"\"\"\n",
    ")\n",
    "for i in val:\n",
    "    print(i)"
   ]
  },
  {
   "cell_type": "code",
   "execution_count": 74,
   "metadata": {},
   "outputs": [],
   "source": [
    "# Creating Table 'events' in 'soundcloud' keyspace \n",
    "\n",
    "keyspace = 'soundcloud'\n",
    "\n",
    "try:\n",
    "  session.execute(\n",
    "    f\"\"\"\n",
    "    CREATE TABLE IF NOT EXISTS {keyspace}.events (\n",
    "        {df.columns[0]} UUID,\n",
    "        {df.columns[1]} TEXT,\n",
    "        {df.columns[2]} TEXT,\n",
    "        {df.columns[3]} TEXT,\n",
    "        {df.columns[4]} INT,\n",
    "        {df.columns[5]} TEXT,\n",
    "        {df.columns[6]} FLOAT,\n",
    "        {df.columns[7]} TEXT,\n",
    "        {df.columns[8]} TEXT,\n",
    "        {df.columns[9]} INT,\n",
    "        {df.columns[10]} TEXT,\n",
    "        {df.columns[11]} INT,\n",
    "        PRIMARY KEY ((user_id, session_number), item_in_session_number)\n",
    "    );\n",
    "    \"\"\"\n",
    ")\n",
    "  \n",
    "except Exception as e:\n",
    "  print(\"Error: \", e)\n"
   ]
  },
  {
   "cell_type": "code",
   "execution_count": 77,
   "metadata": {},
   "outputs": [
    {
     "name": "stdout",
     "output_type": "stream",
     "text": [
      "Data entered successfully\n"
     ]
    }
   ],
   "source": [
    "# loading the data into the table\n",
    "\n",
    "query = f'INSERT INTO {keyspace}.events (artist_name, fname, gender, item_in_session_number, lname, length, level, location, session_number, song_title, user_id)'\n",
    "query += f' VALUES (%s, %s, %s, %s, %s, %s, %s, %s, %s, %s, %s);'\n",
    "\n",
    "for index, row in df.iterrows():\n",
    "    try:\n",
    "        session.execute(query, (row['artist_name'], row['fname'], row['gender'], row['item_in_session_number'], row['lname'], row['length'], row['level'], row['location'], row['session_number'], row['song_title'], row['user_id']))\n",
    "\n",
    "    except Exception as e:\n",
    "        print(f\"Error inserting data into events table: {e}\")\n",
    "        break\n",
    "\n",
    "print('Data entered successfully')"
   ]
  },
  {
   "cell_type": "markdown",
   "metadata": {},
   "source": [
    "## List of Queries \n",
    "\n",
    "### 1. Find the artist_name, song_title and length of song the SoundCloud app history that was heard during  session_number = 338, and item_in_session_number  = 4\n",
    "\n",
    "\n",
    "\n",
    "\n",
    "\n"
   ]
  },
  {
   "cell_type": "code",
   "execution_count": 78,
   "metadata": {},
   "outputs": [
    {
     "name": "stdout",
     "output_type": "stream",
     "text": [
      "Row(artist_name='Faithless', song_title='Music Matters (Mark Knight Dub)', length=495.30731201171875)\n"
     ]
    }
   ],
   "source": [
    "try:\n",
    "   val = session.execute(\n",
    "        f'''\n",
    "            SELECT artist_name, song_title, length FROM {keyspace}.events\n",
    "            where session_number = 338 AND item_in_session_number = 4 \n",
    "            ALLOW FILTERING;\n",
    "        '''\n",
    "    )\n",
    "\n",
    "except Exception as e:\n",
    "   print(f\"Error: {e}\")\n",
    "\n",
    "for i in val:\n",
    "   print(i)"
   ]
  },
  {
   "cell_type": "markdown",
   "metadata": {},
   "source": [
    "### 2. Find the artist_name, song_title (sorted by item_in_session_number) and name(fname and lname) of the user for user_id = 10, session_number = 182\n",
    "    \n",
    "\n"
   ]
  },
  {
   "cell_type": "code",
   "execution_count": 84,
   "metadata": {},
   "outputs": [
    {
     "name": "stdout",
     "output_type": "stream",
     "text": [
      "Row(artist_name='Down To The Bone', song_title=\"Keep On Keepin' On\", fname='Sylvie', lname='Cruz')\n",
      "Row(artist_name='Three Drives', song_title='Greece 2000', fname='Sylvie', lname='Cruz')\n",
      "Row(artist_name='Sebastien Tellier', song_title='Kilometer', fname='Sylvie', lname='Cruz')\n",
      "Row(artist_name='Lonnie Gordon', song_title='Catch You Baby (Steve Pitron & Max Sanna Radio Edit)', fname='Sylvie', lname='Cruz')\n"
     ]
    }
   ],
   "source": [
    "try:\n",
    "   session.execute(\n",
    "      f'''\n",
    "        CREATE INDEX IF NOT EXISTS \n",
    "        ON {keyspace}.events(item_in_session_number);\n",
    "\n",
    "      '''\n",
    "   )\n",
    "   \n",
    "except Exception as e:\n",
    "   print(f\"An error occurred: {e}\")\n",
    "\n",
    "try:\n",
    "   val = session.execute(\n",
    "        f'''\n",
    "            SELECT artist_name, song_title, fname, lname FROM {keyspace}.events\n",
    "            WHERE user_id = 10 AND session_number = 182\n",
    "            ORDER BY item_in_session_number\n",
    "            ALLOW FILTERING;\n",
    "        '''\n",
    "    )\n",
    "\n",
    "except Exception as e:\n",
    "   print(f\"Error: {e}\")\n",
    "\n",
    "for i in val:\n",
    "   print(i)"
   ]
  },
  {
   "cell_type": "markdown",
   "metadata": {},
   "source": [
    "### 3. Find every name(fname and lname) of the user from the SoundCloud app history that listened to the song_title 'All Hands Against His Own'"
   ]
  },
  {
   "cell_type": "code",
   "execution_count": 86,
   "metadata": {},
   "outputs": [
    {
     "name": "stdout",
     "output_type": "stream",
     "text": [
      "Row(fname='Tegan', lname='Levine')\n",
      "Row(fname='Jacqueline', lname='Lynch')\n",
      "Row(fname='Sara', lname='Johnson')\n"
     ]
    }
   ],
   "source": [
    "try:\n",
    "   val = session.execute(\n",
    "        f'''\n",
    "            SELECT fname, lname FROM {keyspace}.events\n",
    "            WHERE song_title = 'All Hands Against His Own'\n",
    "            ALLOW FILTERING;\n",
    "        '''\n",
    "    )\n",
    "\n",
    "except Exception as e:\n",
    "   print(f\"Error: {e}\")\n",
    "\n",
    "for i in val:\n",
    "   print(i)"
   ]
  },
  {
   "cell_type": "markdown",
   "metadata": {},
   "source": [
    "### Dropping the table"
   ]
  },
  {
   "cell_type": "code",
   "execution_count": 91,
   "metadata": {},
   "outputs": [],
   "source": [
    "try:\n",
    "   session.execute(\n",
    "        f'''\n",
    "            DROP TABLE {keyspace}.events;\n",
    "        '''\n",
    "    )\n",
    "\n",
    "except Exception as e:\n",
    "   print(f\"Error: {e}\")"
   ]
  },
  {
   "cell_type": "markdown",
   "metadata": {},
   "source": [
    "### Shutting down the connections"
   ]
  },
  {
   "cell_type": "code",
   "execution_count": 93,
   "metadata": {},
   "outputs": [],
   "source": [
    "session.shutdown()"
   ]
  }
 ],
 "metadata": {
  "kernelspec": {
   "display_name": "Python 3",
   "language": "python",
   "name": "python3"
  },
  "language_info": {
   "codemirror_mode": {
    "name": "ipython",
    "version": 3
   },
   "file_extension": ".py",
   "mimetype": "text/x-python",
   "name": "python",
   "nbconvert_exporter": "python",
   "pygments_lexer": "ipython3",
   "version": "3.11.5"
  }
 },
 "nbformat": 4,
 "nbformat_minor": 2
}
