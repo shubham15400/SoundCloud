{
 "cells": [
  {
   "cell_type": "markdown",
   "metadata": {},
   "source": [
    "## Model Data using Cassandra\n",
    "\n",
    "\n",
    "### Please just submit this notebook in the Submission and make sure each cell has been executed and output is clearly displayed.\n",
    "\n",
    "### The aim of the project is to solve the three queries given below."
   ]
  },
  {
   "cell_type": "markdown",
   "metadata": {},
   "source": [
    "### Introduction\n",
    "\n",
    "There is a music streaming app called SoundCloud, that has been using their music streaming app and collecting data on songs and user activity and their aim is to analyze this data especially understanding what songs users are listening to. Currently, they are not making use of a NoSQL db and they have the data stored as a CSV file, thus its difficult for them to query the data. So our task is to create a NoSQL database for helping them with the analysis."
   ]
  },
  {
   "cell_type": "markdown",
   "metadata": {},
   "source": [
    "#### Import Packages "
   ]
  },
  {
   "cell_type": "code",
   "execution_count": 16,
   "metadata": {},
   "outputs": [],
   "source": [
    "# from astrapy import DataAPIClient\n",
    "import json\n",
    "import pandas as pd\n",
    "import cassandra\n",
    "import csv\n",
    "from astrapy import DataAPIClient"
   ]
  },
  {
   "cell_type": "markdown",
   "metadata": {},
   "source": [
    "\n",
    "##  The image below is a screenshot of what the data appears like in the event_data.csv\n",
    "\n",
    "<img src=\"event_data_image.jpg\">"
   ]
  },
  {
   "cell_type": "markdown",
   "metadata": {},
   "source": [
    "#### Creating a Cluster"
   ]
  },
  {
   "cell_type": "code",
   "execution_count": 3,
   "metadata": {},
   "outputs": [
    {
     "name": "stdout",
     "output_type": "stream",
     "text": [
      "Connected to Astra DB: []\n"
     ]
    }
   ],
   "source": [
    "# Task: Make a connection to the cassandra instance on your local machine(127.0.0.1) and \n",
    "# create a session to establish connection and begin executing queries\n",
    "\n",
    "# Initialize the client\n",
    "\n",
    "token = 'AstraCS:aKXTRTFNRlMNBJHnjvTIEKPD:7ea32ea24755cc6b990733ae5e8589497cb3900be482a04bec41beb0fdcfaf9b'\n",
    "\n",
    "client = DataAPIClient(token)\n",
    "db = client.get_database_by_api_endpoint(\n",
    "  \"https://e3b3a839-6ac8-4ebf-904d-38dba1f973d4-us-east-2.apps.astra.datastax.com\"\n",
    ")\n",
    "\n",
    "print(f\"Connected to Astra DB: {db.list_collection_names()}\")"
   ]
  },
  {
   "cell_type": "markdown",
   "metadata": {},
   "source": [
    "#### Create & Set Keyspace"
   ]
  },
  {
   "cell_type": "code",
   "execution_count": 30,
   "metadata": {},
   "outputs": [
    {
     "name": "stdout",
     "output_type": "stream",
     "text": [
      "1\n",
      "Database ID: e3b3a839-6ac8-4ebf-904d-38dba1f973d4\n",
      "Keyspaces created: ['default_keyspace', 'soundcloud']\n"
     ]
    }
   ],
   "source": [
    "db_admin = client.get_admin()\n",
    "# Collecting Database information created on DataStax\n",
    "lis_db = list(db_admin.list_databases())\n",
    "print(len(lis_db))\n",
    "print(f\"Database ID: {lis_db[0].id}\") # Database ID in DataStax\n",
    "\n",
    "db_database_admin = db_admin.get_database_admin( \n",
    "    \"https://e3b3a839-6ac8-4ebf-904d-38dba1f973d4-us-east-2.apps.astra.datastax.com\"\n",
    ")\n",
    "Namespace = 'soundcloud'\n",
    "# Creating a new Keyspace\n",
    "if Namespace not in db_database_admin.list_keyspaces(): \n",
    "    db_database_admin.create_keyspace(Namespace) #Creates a Keyspace of name SoundCloud.\n",
    "    print(f\"Keyspaces created: {db_database_admin.list_keyspaces()}\")\n",
    "else:\n",
    "    print(f\"Keyspaces: {db_database_admin.list_keyspaces()}\")"
   ]
  },
  {
   "cell_type": "code",
   "execution_count": 5,
   "metadata": {},
   "outputs": [
    {
     "data": {
      "text/html": [
       "<div>\n",
       "<style scoped>\n",
       "    .dataframe tbody tr th:only-of-type {\n",
       "        vertical-align: middle;\n",
       "    }\n",
       "\n",
       "    .dataframe tbody tr th {\n",
       "        vertical-align: top;\n",
       "    }\n",
       "\n",
       "    .dataframe thead th {\n",
       "        text-align: right;\n",
       "    }\n",
       "</style>\n",
       "<table border=\"1\" class=\"dataframe\">\n",
       "  <thead>\n",
       "    <tr style=\"text-align: right;\">\n",
       "      <th></th>\n",
       "      <th>artist_name</th>\n",
       "      <th>fname</th>\n",
       "      <th>gender</th>\n",
       "      <th>item_in_session_number</th>\n",
       "      <th>lname</th>\n",
       "      <th>length</th>\n",
       "      <th>level</th>\n",
       "      <th>location</th>\n",
       "      <th>session_number</th>\n",
       "      <th>song_title</th>\n",
       "      <th>user_id</th>\n",
       "    </tr>\n",
       "  </thead>\n",
       "  <tbody>\n",
       "    <tr>\n",
       "      <th>0</th>\n",
       "      <td>Pavement</td>\n",
       "      <td>Sylvie</td>\n",
       "      <td>F</td>\n",
       "      <td>0</td>\n",
       "      <td>Cruz</td>\n",
       "      <td>99.16036</td>\n",
       "      <td>free</td>\n",
       "      <td>Washington-Arlington-Alexandria, DC-VA-MD-WV</td>\n",
       "      <td>345</td>\n",
       "      <td>Mercy:The Laundromat</td>\n",
       "      <td>10</td>\n",
       "    </tr>\n",
       "    <tr>\n",
       "      <th>1</th>\n",
       "      <td>Barry Tuckwell/Academy of St Martin-in-the-Fie...</td>\n",
       "      <td>Celeste</td>\n",
       "      <td>F</td>\n",
       "      <td>1</td>\n",
       "      <td>Williams</td>\n",
       "      <td>277.15873</td>\n",
       "      <td>free</td>\n",
       "      <td>Klamath Falls, OR</td>\n",
       "      <td>438</td>\n",
       "      <td>Horn Concerto No. 4 in E flat K495: II. Romanc...</td>\n",
       "      <td>53</td>\n",
       "    </tr>\n",
       "    <tr>\n",
       "      <th>2</th>\n",
       "      <td>Gary Allan</td>\n",
       "      <td>Celeste</td>\n",
       "      <td>F</td>\n",
       "      <td>2</td>\n",
       "      <td>Williams</td>\n",
       "      <td>211.22567</td>\n",
       "      <td>free</td>\n",
       "      <td>Klamath Falls, OR</td>\n",
       "      <td>438</td>\n",
       "      <td>Nothing On But The Radio</td>\n",
       "      <td>53</td>\n",
       "    </tr>\n",
       "    <tr>\n",
       "      <th>3</th>\n",
       "      <td>Charttraxx Karaoke</td>\n",
       "      <td>Celeste</td>\n",
       "      <td>F</td>\n",
       "      <td>3</td>\n",
       "      <td>Williams</td>\n",
       "      <td>225.17506</td>\n",
       "      <td>free</td>\n",
       "      <td>Klamath Falls, OR</td>\n",
       "      <td>438</td>\n",
       "      <td>Fireflies</td>\n",
       "      <td>53</td>\n",
       "    </tr>\n",
       "    <tr>\n",
       "      <th>4</th>\n",
       "      <td>The Libertines</td>\n",
       "      <td>Jacqueline</td>\n",
       "      <td>F</td>\n",
       "      <td>1</td>\n",
       "      <td>Lynch</td>\n",
       "      <td>179.53914</td>\n",
       "      <td>paid</td>\n",
       "      <td>Atlanta-Sandy Springs-Roswell, GA</td>\n",
       "      <td>389</td>\n",
       "      <td>The Good Old Days</td>\n",
       "      <td>29</td>\n",
       "    </tr>\n",
       "  </tbody>\n",
       "</table>\n",
       "</div>"
      ],
      "text/plain": [
       "                                         artist_name       fname gender  \\\n",
       "0                                           Pavement      Sylvie      F   \n",
       "1  Barry Tuckwell/Academy of St Martin-in-the-Fie...     Celeste      F   \n",
       "2                                         Gary Allan     Celeste      F   \n",
       "3                                 Charttraxx Karaoke     Celeste      F   \n",
       "4                                     The Libertines  Jacqueline      F   \n",
       "\n",
       "   item_in_session_number     lname     length level  \\\n",
       "0                       0      Cruz   99.16036  free   \n",
       "1                       1  Williams  277.15873  free   \n",
       "2                       2  Williams  211.22567  free   \n",
       "3                       3  Williams  225.17506  free   \n",
       "4                       1     Lynch  179.53914  paid   \n",
       "\n",
       "                                       location  session_number  \\\n",
       "0  Washington-Arlington-Alexandria, DC-VA-MD-WV             345   \n",
       "1                             Klamath Falls, OR             438   \n",
       "2                             Klamath Falls, OR             438   \n",
       "3                             Klamath Falls, OR             438   \n",
       "4             Atlanta-Sandy Springs-Roswell, GA             389   \n",
       "\n",
       "                                          song_title  user_id  \n",
       "0                               Mercy:The Laundromat       10  \n",
       "1  Horn Concerto No. 4 in E flat K495: II. Romanc...       53  \n",
       "2                           Nothing On But The Radio       53  \n",
       "3                                          Fireflies       53  \n",
       "4                                  The Good Old Days       29  "
      ]
     },
     "execution_count": 5,
     "metadata": {},
     "output_type": "execute_result"
    }
   ],
   "source": [
    "df = pd.read_csv('event_data.csv')\n",
    "df.head() "
   ]
  },
  {
   "cell_type": "code",
   "execution_count": 29,
   "metadata": {},
   "outputs": [
    {
     "name": "stdout",
     "output_type": "stream",
     "text": [
      "SoundCloud dropped successfully\n",
      "Keyspaces: ['default_keyspace']\n"
     ]
    }
   ],
   "source": [
    "# Dropping Namespace\n",
    "if Namespace in db_database_admin.list_keyspaces():\n",
    "    db_database_admin.drop_keyspace(Namespace)\n",
    "    print(f'{Namespace} dropped successfully\\nKeyspaces: {db_database_admin.list_keyspaces()}')\n",
    "else:\n",
    "    print(f'{Namespace} does not exist in Keyspaces: {db_database_admin.list_keyspaces()}')"
   ]
  },
  {
   "cell_type": "markdown",
   "metadata": {},
   "source": [
    "## List of Queries \n",
    "\n",
    "### 1. Find the artist_name, song_title and length of song the SoundCloud app history that was heard during  session_number = 338, and item_in_session_number  = 4\n",
    "\n",
    "\n",
    "### 2. Find the artist_name, song_title (sorted by item_in_session_number) and name(fname and lname) of the user for user_id = 10, session_number = 182\n",
    "    \n",
    "\n",
    "### 3. Find every name(fname and lname) of the user from the SoundCloud app history that listened to the song_title 'All Hands Against His Own'\n",
    "\n",
    "\n"
   ]
  },
  {
   "cell_type": "markdown",
   "metadata": {},
   "source": [
    "### Query1 Table1: How should we model this data? Think about what should be our Primary Key/Partition Key/Clustering Key"
   ]
  },
  {
   "cell_type": "code",
   "execution_count": null,
   "metadata": {},
   "outputs": [],
   "source": [
    "## Task: Query 1: Find the artist_name, song_title and length of song the SoundCloud app history \n",
    "## that was heard during session_number = 338, and item_in_session_number = 4\n",
    "## make use of create table command        \n",
    "           "
   ]
  },
  {
   "cell_type": "markdown",
   "metadata": {},
   "source": [
    "### Let's insert our data into of table"
   ]
  },
  {
   "cell_type": "code",
   "execution_count": null,
   "metadata": {
    "scrolled": false
   },
   "outputs": [],
   "source": [
    "# We have provided part of the code to set up the CSV file. Please complete the Apache Cassandra code below#\n",
    "file_name = 'event_data.csv'\n",
    "\n",
    "with open(file_name, encoding = 'utf8') as f:\n",
    "    csv_reader = csv.reader(f)\n",
    "    next(csvreader) # skip the header in the csv file\n",
    "    for row in csv_reader:\n",
    "## Task: Write the INSERT statements and assign it to the query variable\n",
    "        query = \"<Place your insert statement and assign the values here>\"\n",
    "        \n",
    "        ## Task: Match the column in the csv file to the column in the INSERT statement.\n",
    "        ## e.g., if you want to INSERT gender from csv file into the database you will use row[2]\n",
    "        ## e.g., if you want to INSERT location from csv file into database you will use row[7]\n",
    "        session.execute(query, (row[], row[]))"
   ]
  },
  {
   "cell_type": "markdown",
   "metadata": {},
   "source": [
    "### Validate our Data Model using a SELECT"
   ]
  },
  {
   "cell_type": "code",
   "execution_count": null,
   "metadata": {
    "scrolled": true
   },
   "outputs": [],
   "source": [
    "## Task: Make use of the SELECT statement and for loop to check if your query works and display the results"
   ]
  },
  {
   "cell_type": "markdown",
   "metadata": {},
   "source": [
    "### Query2 Table2: How should we model this data? Think about what should be our Primary Key/Partition Key/Clustering Key "
   ]
  },
  {
   "cell_type": "code",
   "execution_count": null,
   "metadata": {},
   "outputs": [],
   "source": [
    "## Task: Query 2: Find the artist_name, song_title (sorted by item_in_session_number) and \n",
    "## name(fname and lname) of the user for user_id = 10, session_number = 182 \n",
    "## make use of create table command                   "
   ]
  },
  {
   "cell_type": "markdown",
   "metadata": {},
   "source": [
    "### Let's insert our data into of table"
   ]
  },
  {
   "cell_type": "code",
   "execution_count": null,
   "metadata": {
    "scrolled": false
   },
   "outputs": [],
   "source": [
    "# We have provided part of the code to set up the CSV file. Please complete the Apache Cassandra code below#\n",
    "file_name = 'event_data.csv'\n",
    "\n",
    "with open(file_name, encoding = 'utf8') as f:\n",
    "    csv_reader = csv.reader(f)\n",
    "    next(csvreader) # skip the header in the csv file\n",
    "    for row in csv_reader:\n",
    "## Task: Write the INSERT statements and assign it to the query variable\n",
    "        query = \"<Place your insert statement and assign the values here>\"\n",
    "        \n",
    "        ## Task: Match the column in the csv file to the column in the INSERT statement.\n",
    "        ## e.g., if you want to INSERT gender from csv file into the database you will use row[2]\n",
    "        ## e.g., if you want to INSERT location from csv file into database you will use row[7]\n",
    "        session.execute(query, (row[], row[]))"
   ]
  },
  {
   "cell_type": "markdown",
   "metadata": {},
   "source": [
    "### Validate our Data Model using a SELECT"
   ]
  },
  {
   "cell_type": "code",
   "execution_count": null,
   "metadata": {
    "scrolled": true
   },
   "outputs": [],
   "source": [
    "## Task: Make use of the SELECT statement and for loop to check if your query works and display the results"
   ]
  },
  {
   "cell_type": "markdown",
   "metadata": {},
   "source": [
    "### Query3 Table3: How should we model this data? Think about what should be our Primary Key/Partition Key/Clustering Key"
   ]
  },
  {
   "cell_type": "code",
   "execution_count": null,
   "metadata": {},
   "outputs": [],
   "source": [
    "## Task: Query 3: Find every name(first and lastname) of the user from the SoundCloud app history that listened \n",
    "## to the song_title 'All Hands Against His Own'\n",
    "## make use of create table command                   "
   ]
  },
  {
   "cell_type": "markdown",
   "metadata": {},
   "source": [
    "### Let's insert our data into of table"
   ]
  },
  {
   "cell_type": "code",
   "execution_count": null,
   "metadata": {
    "scrolled": false
   },
   "outputs": [],
   "source": [
    "# We have provided part of the code to set up the CSV file. Please complete the Apache Cassandra code below#\n",
    "file_name = 'event_data.csv'\n",
    "\n",
    "with open(file_name, encoding = 'utf8') as f:\n",
    "    csv_reader = csv.reader(f)\n",
    "    next(csvreader) # skip the header in the csv file\n",
    "    for row in csv_reader:\n",
    "## Task: Write the INSERT statements and assign it to the query variable\n",
    "        query = \"<Place your insert statement and assign the values here>\"\n",
    "        \n",
    "        ## Task: Match the column in the csv file to the column in the INSERT statement.\n",
    "        ## e.g., if you want to INSERT gender from csv file into the database you will use row[2]\n",
    "        ## e.g., if you want to INSERT location from csv file into database you will use row[7]\n",
    "        session.execute(query, (row[], row[]))"
   ]
  },
  {
   "cell_type": "markdown",
   "metadata": {},
   "source": [
    "### Validate our Data Model using a SELECT"
   ]
  },
  {
   "cell_type": "code",
   "execution_count": null,
   "metadata": {
    "scrolled": true
   },
   "outputs": [],
   "source": [
    "## Task: Make use of the SELECT statement and for loop to check if your query works and display the results"
   ]
  },
  {
   "cell_type": "markdown",
   "metadata": {},
   "source": [
    "### Drop the tables before closing out the sessions"
   ]
  },
  {
   "cell_type": "code",
   "execution_count": null,
   "metadata": {},
   "outputs": [],
   "source": []
  },
  {
   "cell_type": "markdown",
   "metadata": {},
   "source": [
    "### Close the session and cluster connection¶"
   ]
  },
  {
   "cell_type": "code",
   "execution_count": null,
   "metadata": {},
   "outputs": [],
   "source": []
  }
 ],
 "metadata": {
  "kernelspec": {
   "display_name": "Python 3",
   "language": "python",
   "name": "python3"
  },
  "language_info": {
   "codemirror_mode": {
    "name": "ipython",
    "version": 3
   },
   "file_extension": ".py",
   "mimetype": "text/x-python",
   "name": "python",
   "nbconvert_exporter": "python",
   "pygments_lexer": "ipython3",
   "version": "3.12.5"
  }
 },
 "nbformat": 4,
 "nbformat_minor": 2
}
